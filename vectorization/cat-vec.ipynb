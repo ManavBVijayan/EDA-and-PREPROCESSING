{
 "cells": [
  {
   "cell_type": "code",
   "execution_count": 5,
   "id": "cdf14b74-abd2-4af4-8707-3aa9d5337caa",
   "metadata": {},
   "outputs": [],
   "source": [
    "from sklearn.preprocessing import OneHotEncoder\n",
    "import numpy as np"
   ]
  },
  {
   "cell_type": "code",
   "execution_count": 2,
   "id": "c0385fd0-55bb-4ce2-bd48-f27ec2805139",
   "metadata": {},
   "outputs": [],
   "source": [
    "categories = ['Red', 'Green', 'Blue']"
   ]
  },
  {
   "cell_type": "code",
   "execution_count": 3,
   "id": "73969391-2fdd-48f0-a148-ae2d2cd27cda",
   "metadata": {},
   "outputs": [],
   "source": [
    "encoder = OneHotEncoder()"
   ]
  },
  {
   "cell_type": "code",
   "execution_count": 6,
   "id": "da8cf5f1-ec65-4bca-8069-6cc6d8ceb479",
   "metadata": {},
   "outputs": [],
   "source": [
    "# Fit and transform the data\n",
    "encoded_data = encoder.fit_transform(np.array(categories).reshape(-1, 1))"
   ]
  },
  {
   "cell_type": "code",
   "execution_count": 7,
   "id": "b6edb88b-cbf7-4945-8285-00124c7dcb86",
   "metadata": {},
   "outputs": [],
   "source": [
    "# Convert sparse matrix to dense array (if needed)\n",
    "encoded_data_array = encoded_data.toarray()"
   ]
  },
  {
   "cell_type": "code",
   "execution_count": 8,
   "id": "32f7fac2-b954-486a-b1d5-7a45ce438843",
   "metadata": {},
   "outputs": [
    {
     "name": "stdout",
     "output_type": "stream",
     "text": [
      "[[0. 0. 1.]\n",
      " [0. 1. 0.]\n",
      " [1. 0. 0.]]\n"
     ]
    }
   ],
   "source": [
    "print(encoded_data_array)"
   ]
  },
  {
   "cell_type": "code",
   "execution_count": 9,
   "id": "50473891-6db3-4c16-80b9-451eb12f77bc",
   "metadata": {},
   "outputs": [],
   "source": [
    "from sklearn.preprocessing import LabelEncoder"
   ]
  },
  {
   "cell_type": "code",
   "execution_count": 10,
   "id": "32e2facc-387a-4425-8494-50d9d4b70dcb",
   "metadata": {},
   "outputs": [],
   "source": [
    "categories = ['Small', 'Medium', 'Large']"
   ]
  },
  {
   "cell_type": "code",
   "execution_count": 11,
   "id": "cceb0845-19b8-4822-a36f-ff89b56f272b",
   "metadata": {},
   "outputs": [],
   "source": [
    "# Initialize the LabelEncoder\n",
    "encoder = LabelEncoder()"
   ]
  },
  {
   "cell_type": "code",
   "execution_count": 12,
   "id": "71c37c71-2a88-45aa-a149-c9eccbb1a89a",
   "metadata": {},
   "outputs": [],
   "source": [
    "# Fit and transform the data\n",
    "encoded_data = encoder.fit_transform(categories)"
   ]
  },
  {
   "cell_type": "code",
   "execution_count": 13,
   "id": "387e1c09-aa7d-462f-9948-973413ccda36",
   "metadata": {},
   "outputs": [
    {
     "name": "stdout",
     "output_type": "stream",
     "text": [
      "[2 1 0]\n"
     ]
    }
   ],
   "source": [
    "print(encoded_data)"
   ]
  }
 ],
 "metadata": {
  "kernelspec": {
   "display_name": "Python 3 (ipykernel)",
   "language": "python",
   "name": "python3"
  },
  "language_info": {
   "codemirror_mode": {
    "name": "ipython",
    "version": 3
   },
   "file_extension": ".py",
   "mimetype": "text/x-python",
   "name": "python",
   "nbconvert_exporter": "python",
   "pygments_lexer": "ipython3",
   "version": "3.10.9"
  }
 },
 "nbformat": 4,
 "nbformat_minor": 5
}
