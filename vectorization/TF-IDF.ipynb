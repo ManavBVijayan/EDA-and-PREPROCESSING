{
 "cells": [
  {
   "cell_type": "code",
   "execution_count": 1,
   "id": "bb8176fb-e342-4607-87d8-d45b5af4e1b6",
   "metadata": {},
   "outputs": [],
   "source": [
    "documents = [\n",
    "    \"Machine learning is a subset of artificial intelligence.\",\n",
    "    \"Natural language processing is used for language-related tasks.\",\n",
    "    \"Python is a popular programming language for data science.\",\n",
    "    \"Deep learning models are used in image recognition.\",\n",
    "    \"Data scientists analyze and interpret complex data.\"\n",
    "]\n"
   ]
  },
  {
   "cell_type": "code",
   "execution_count": 3,
   "id": "b967b826-674e-47d1-89f8-01d8b43cbc7b",
   "metadata": {},
   "outputs": [],
   "source": [
    "from sklearn.feature_extraction.text import TfidfVectorizer"
   ]
  },
  {
   "cell_type": "code",
   "execution_count": 4,
   "id": "f582ee37-d0fa-401c-95b1-ab2f0ef9cb31",
   "metadata": {},
   "outputs": [],
   "source": [
    "tfidf=TfidfVectorizer()"
   ]
  },
  {
   "cell_type": "code",
   "execution_count": 5,
   "id": "799183ca-3129-4bec-95ef-19b55f83a0c8",
   "metadata": {},
   "outputs": [],
   "source": [
    "transform=tfidf.fit_transform(documents)"
   ]
  },
  {
   "cell_type": "code",
   "execution_count": 6,
   "id": "7fae4f0c-683e-490b-ae8a-8a1f11f51db9",
   "metadata": {},
   "outputs": [],
   "source": [
    "to_array=transform.toarray()"
   ]
  },
  {
   "cell_type": "code",
   "execution_count": 7,
   "id": "ba18bdc1-6103-4a24-9707-355365ccb459",
   "metadata": {},
   "outputs": [],
   "source": [
    "feature_names = tfidf.get_feature_names_out()"
   ]
  },
  {
   "cell_type": "code",
   "execution_count": 8,
   "id": "6615d2e3-c842-483b-a050-c5e39fb006ac",
   "metadata": {},
   "outputs": [
    {
     "name": "stdout",
     "output_type": "stream",
     "text": [
      "    analyze       and      are  artificial   complex      data     deep  \\\n",
      "0  0.000000  0.000000  0.00000    0.404907  0.000000  0.000000  0.00000   \n",
      "1  0.000000  0.000000  0.00000    0.000000  0.000000  0.000000  0.00000   \n",
      "2  0.000000  0.000000  0.00000    0.000000  0.000000  0.318882  0.00000   \n",
      "3  0.000000  0.000000  0.37007    0.000000  0.000000  0.000000  0.37007   \n",
      "4  0.362651  0.362651  0.00000    0.000000  0.362651  0.585169  0.00000   \n",
      "\n",
      "        for    image       in  ...  processing  programming    python  \\\n",
      "0  0.000000  0.00000  0.00000  ...    0.000000     0.000000  0.000000   \n",
      "1  0.279135  0.00000  0.00000  ...    0.345981     0.000000  0.000000   \n",
      "2  0.318882  0.00000  0.00000  ...    0.000000     0.395246  0.395246   \n",
      "3  0.000000  0.37007  0.37007  ...    0.000000     0.000000  0.000000   \n",
      "4  0.000000  0.00000  0.00000  ...    0.000000     0.000000  0.000000   \n",
      "\n",
      "   recognition   related   science  scientists    subset     tasks      used  \n",
      "0      0.00000  0.000000  0.000000    0.000000  0.404907  0.000000  0.000000  \n",
      "1      0.00000  0.345981  0.000000    0.000000  0.000000  0.345981  0.279135  \n",
      "2      0.00000  0.000000  0.395246    0.000000  0.000000  0.000000  0.000000  \n",
      "3      0.37007  0.000000  0.000000    0.000000  0.000000  0.000000  0.298570  \n",
      "4      0.00000  0.000000  0.000000    0.362651  0.000000  0.000000  0.000000  \n",
      "\n",
      "[5 rows x 30 columns]\n"
     ]
    }
   ],
   "source": [
    "import pandas as pd\n",
    "\n",
    "tfidf_df = pd.DataFrame(data=to_array, columns=feature_names)\n",
    "print(tfidf_df)"
   ]
  }
 ],
 "metadata": {
  "kernelspec": {
   "display_name": "Python 3 (ipykernel)",
   "language": "python",
   "name": "python3"
  },
  "language_info": {
   "codemirror_mode": {
    "name": "ipython",
    "version": 3
   },
   "file_extension": ".py",
   "mimetype": "text/x-python",
   "name": "python",
   "nbconvert_exporter": "python",
   "pygments_lexer": "ipython3",
   "version": "3.10.9"
  }
 },
 "nbformat": 4,
 "nbformat_minor": 5
}
