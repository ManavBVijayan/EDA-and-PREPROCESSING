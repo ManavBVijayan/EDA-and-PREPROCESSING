{
 "cells": [
  {
   "cell_type": "code",
   "execution_count": 1,
   "id": "2884d8c4-cc4b-4f62-95b9-d491d81d4251",
   "metadata": {},
   "outputs": [
    {
     "name": "stdout",
     "output_type": "stream",
     "text": [
      "scaled data: [0.2857142857142857, 0.42857142857142855, 0.0, 0.8571428571428571, 1.0, 0.0]\n"
     ]
    }
   ],
   "source": [
    "def min_max(data):\n",
    "    min_val=min(data)\n",
    "    max_val=max(data)\n",
    "    scaled_data=[(x-min_val)/(max_val-min_val) for x in data]\n",
    "    return scaled_data\n",
    "x=[5,6,3,9,10,3]\n",
    "scaled_data=min_max(x)\n",
    "print(\"scaled data:\",scaled_data)"
   ]
  },
  {
   "cell_type": "code",
   "execution_count": null,
   "id": "365c2c12-75ed-4b2f-9605-a540e6630ff3",
   "metadata": {},
   "outputs": [],
   "source": []
  }
 ],
 "metadata": {
  "kernelspec": {
   "display_name": "Python 3 (ipykernel)",
   "language": "python",
   "name": "python3"
  },
  "language_info": {
   "codemirror_mode": {
    "name": "ipython",
    "version": 3
   },
   "file_extension": ".py",
   "mimetype": "text/x-python",
   "name": "python",
   "nbconvert_exporter": "python",
   "pygments_lexer": "ipython3",
   "version": "3.10.9"
  }
 },
 "nbformat": 4,
 "nbformat_minor": 5
}
