{
 "cells": [
  {
   "cell_type": "code",
   "execution_count": 1,
   "id": "830794da-ad39-4744-8711-b2c17881d4bd",
   "metadata": {},
   "outputs": [],
   "source": [
    "import numpy as np"
   ]
  },
  {
   "cell_type": "code",
   "execution_count": 2,
   "id": "4a710c26-16d6-4133-b83f-59ed795165f3",
   "metadata": {},
   "outputs": [
    {
     "name": "stdout",
     "output_type": "stream",
     "text": [
      "scaled data: [-1.1609591237233643, -0.4868538260775399, 0.6366550033321674, -0.9362573578414228, 0.18725147156828448, 1.7601638327418747]\n"
     ]
    }
   ],
   "source": [
    "def std_scale(data):\n",
    "    data=np.array(data)\n",
    "    mean_value=np.mean(data)\n",
    "    std_value=np.std(data)\n",
    "    std_data=[(x-mean_value)/std_value for x in data]\n",
    "    return std_data\n",
    "data=[2, 5, 10, 3, 8, 15]\n",
    "print(\"scaled data:\",std_scale(data))"
   ]
  }
 ],
 "metadata": {
  "kernelspec": {
   "display_name": "Python 3 (ipykernel)",
   "language": "python",
   "name": "python3"
  },
  "language_info": {
   "codemirror_mode": {
    "name": "ipython",
    "version": 3
   },
   "file_extension": ".py",
   "mimetype": "text/x-python",
   "name": "python",
   "nbconvert_exporter": "python",
   "pygments_lexer": "ipython3",
   "version": "3.10.9"
  }
 },
 "nbformat": 4,
 "nbformat_minor": 5
}
