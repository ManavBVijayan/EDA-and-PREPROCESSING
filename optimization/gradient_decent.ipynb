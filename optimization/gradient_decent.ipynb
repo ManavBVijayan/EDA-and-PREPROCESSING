{
 "cells": [
  {
   "cell_type": "code",
   "execution_count": 1,
   "id": "48291fdc-d042-40f9-ac4a-aedc01af94e2",
   "metadata": {},
   "outputs": [],
   "source": [
    "import numpy as np"
   ]
  },
  {
   "cell_type": "code",
   "execution_count": 2,
   "id": "f878e076-de07-40a9-b95a-574d0ee6829a",
   "metadata": {},
   "outputs": [],
   "source": [
    "X = np.array([1, 2, 3, 4, 5])\n",
    "y = np.array([5, 7, 9, 11, 13])"
   ]
  },
  {
   "cell_type": "code",
   "execution_count": 3,
   "id": "c15f7b63-f610-4962-979f-d32ef9ed2523",
   "metadata": {},
   "outputs": [
    {
     "name": "stdout",
     "output_type": "stream",
     "text": [
      "Theta 0: 2.581619456736265\n",
      "Theta 1: 2.1158847017304687\n"
     ]
    }
   ],
   "source": [
    "# Initial guess for parameters gradeint decent\n",
    "theta_0 = 0\n",
    "theta_1 = 0\n",
    "alpha = 0.01\n",
    "iterations = 1000\n",
    "\n",
    "for _ in range(iterations):\n",
    "    predictions = theta_0 + theta_1 * X\n",
    "    errors = predictions - y\n",
    "    theta_0 -= alpha * np.mean(errors)\n",
    "    theta_1 -= alpha * np.mean(errors * X)\n",
    "\n",
    "print(\"Theta 0:\", theta_0)\n",
    "print(\"Theta 1:\", theta_1)"
   ]
  },
  {
   "cell_type": "code",
   "execution_count": 4,
   "id": "c4cbdf15-c60c-4c13-96b8-ae1b4e11020c",
   "metadata": {},
   "outputs": [
    {
     "name": "stdout",
     "output_type": "stream",
     "text": [
      "Theta 0: 2.99962455684579\n",
      "Theta 1: 2.000102705120354\n"
     ]
    }
   ],
   "source": [
    "# Initial guess for parameters stochastic gradient decent\n",
    "theta_0 = 0\n",
    "theta_1 = 0\n",
    "alpha = 0.01\n",
    "iterations = 1000\n",
    "\n",
    "# Stochastic Gradient Descent\n",
    "for _ in range(iterations):\n",
    "    indices = np.random.permutation(len(X)) # Randomly shuffle data\n",
    "    X_shuffled = X[indices]\n",
    "    y_shuffled = y[indices]\n",
    "    for i in range(len(X)):\n",
    "        prediction = theta_0 + theta_1 * X_shuffled[i]\n",
    "        error = prediction - y_shuffled[i]\n",
    "        theta_0 -= alpha * error\n",
    "        theta_1 -= alpha * error * X_shuffled[i]\n",
    "\n",
    "print(\"Theta 0:\", theta_0)\n",
    "print(\"Theta 1:\", theta_1)"
   ]
  }
 ],
 "metadata": {
  "kernelspec": {
   "display_name": "Python 3 (ipykernel)",
   "language": "python",
   "name": "python3"
  },
  "language_info": {
   "codemirror_mode": {
    "name": "ipython",
    "version": 3
   },
   "file_extension": ".py",
   "mimetype": "text/x-python",
   "name": "python",
   "nbconvert_exporter": "python",
   "pygments_lexer": "ipython3",
   "version": "3.10.9"
  }
 },
 "nbformat": 4,
 "nbformat_minor": 5
}
